{
 "cells": [
  {
   "cell_type": "code",
   "execution_count": 8,
   "id": "2c49ee43-639b-4427-8709-09432549b627",
   "metadata": {},
   "outputs": [],
   "source": [
    "import time \n",
    "def fib(n,d): \n",
    "    if n in d:\n",
    "        return d[n]\n",
    "    else: \n",
    "        d[n] = fib(n-1,d) + fib(n-2,d)\n",
    "        return d[n]"
   ]
  },
  {
   "cell_type": "code",
   "execution_count": 10,
   "id": "8157bc84-7ce7-4a43-bbf2-61bcf1960397",
   "metadata": {},
   "outputs": [
    {
     "name": "stdout",
     "output_type": "stream",
     "text": [
      "0.0\n"
     ]
    }
   ],
   "source": [
    "start = time.time()\n",
    "d = {0:1, 1:1}\n",
    "fib(100,d)\n",
    "print(time.time()-start)"
   ]
  },
  {
   "cell_type": "code",
   "execution_count": null,
   "id": "cb121bbd-c6e8-4003-bd39-c60a5d58ea3e",
   "metadata": {},
   "outputs": [],
   "source": []
  }
 ],
 "metadata": {
  "kernelspec": {
   "display_name": "Python [conda env:base] *",
   "language": "python",
   "name": "conda-base-py"
  },
  "language_info": {
   "codemirror_mode": {
    "name": "ipython",
    "version": 3
   },
   "file_extension": ".py",
   "mimetype": "text/x-python",
   "name": "python",
   "nbconvert_exporter": "python",
   "pygments_lexer": "ipython3",
   "version": "3.12.7"
  }
 },
 "nbformat": 4,
 "nbformat_minor": 5
}
